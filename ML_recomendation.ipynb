{
  "nbformat": 4,
  "nbformat_minor": 0,
  "metadata": {
    "colab": {
      "provenance": []
    },
    "kernelspec": {
      "name": "python3",
      "display_name": "Python 3"
    },
    "language_info": {
      "name": "python"
    }
  },
  "cells": [
    {
      "cell_type": "code",
      "source": [
        "pip install surprise"
      ],
      "metadata": {
        "colab": {
          "base_uri": "https://localhost:8080/"
        },
        "id": "vr2sBr53mVkc",
        "outputId": "4098db3b-3b00-4e1e-9c8d-c998e189dabd"
      },
      "execution_count": 139,
      "outputs": [
        {
          "output_type": "stream",
          "name": "stdout",
          "text": [
            "Looking in indexes: https://pypi.org/simple, https://us-python.pkg.dev/colab-wheels/public/simple/\n",
            "Requirement already satisfied: surprise in /usr/local/lib/python3.8/dist-packages (0.1)\n",
            "Requirement already satisfied: scikit-surprise in /usr/local/lib/python3.8/dist-packages (from surprise) (1.1.3)\n",
            "Requirement already satisfied: scipy>=1.3.2 in /usr/local/lib/python3.8/dist-packages (from scikit-surprise->surprise) (1.7.3)\n",
            "Requirement already satisfied: numpy>=1.17.3 in /usr/local/lib/python3.8/dist-packages (from scikit-surprise->surprise) (1.21.6)\n",
            "Requirement already satisfied: joblib>=1.0.0 in /usr/local/lib/python3.8/dist-packages (from scikit-surprise->surprise) (1.2.0)\n"
          ]
        }
      ]
    },
    {
      "cell_type": "code",
      "execution_count": 140,
      "metadata": {
        "id": "QL5rry6cc4nR"
      },
      "outputs": [],
      "source": [
        "import pandas as pd\n",
        "import numpy as np\n",
        "import matplotlib.pyplot as plt\n",
        "from surprise import Dataset, Reader, SVD\n",
        "from surprise import Reader\n",
        "from surprise import Dataset\n",
        "from surprise.model_selection import train_test_split\n",
        "from surprise.model_selection import cross_validate\n",
        "from surprise import accuracy"
      ]
    },
    {
      "cell_type": "code",
      "source": [
        "df = pd.read_csv(\"movies_dF.csv\")\n",
        "df.head()"
      ],
      "metadata": {
        "colab": {
          "base_uri": "https://localhost:8080/",
          "height": 722
        },
        "id": "8Dy-Gja9dGqB",
        "outputId": "652b8e84-ba40-4f10-9ca7-633c7e307713"
      },
      "execution_count": 141,
      "outputs": [
        {
          "output_type": "execute_result",
          "data": {
            "text/plain": [
              "   index   id show_id   type                 title        director  \\\n",
              "0      0  as1      s1  movie   the grand seduction    don mckellar   \n",
              "1      1  as2      s2  movie  take care good night    girish joshi   \n",
              "2      2  as3      s3  movie  secrets of deception     josh webber   \n",
              "3      3  as4      s4  movie    pink: staying true  sonia anderson   \n",
              "4      4  as5      s5  movie         monster maker    giles foster   \n",
              "\n",
              "                                                cast         country  \\\n",
              "0     brendan gleeson, taylor kitsch, gordon pinsent          canada   \n",
              "1   mahesh manjrekar, abhay mahajan, sachin khedekar           india   \n",
              "2  tom sizemore, lorenzo lamas, robert lasardo, r...   united states   \n",
              "3  interviews with: pink, adele, beyoncé, britney...   united states   \n",
              "4  harry dean stanton, kieran o'brien, george cos...  united kingdom   \n",
              "\n",
              "   date_added  release_year rating_x                listed_in  \\\n",
              "0  2021-03-30          2014        g            comedy, drama   \n",
              "1  2021-03-30          2018      13+     drama, international   \n",
              "2  2021-03-30          2017        g  action, drama, suspense   \n",
              "3  2021-03-30          2014        g              documentary   \n",
              "4  2021-03-30          1989        g           drama, fantasy   \n",
              "\n",
              "                                         description  duration_int  \\\n",
              "0  a small fishing village must procure a local d...         113.0   \n",
              "1  a metro family decides to fight a cyber crimin...         110.0   \n",
              "2  after a man discovers his wife is cheating on ...          74.0   \n",
              "3  pink breaks the mold once again, bringing her ...          69.0   \n",
              "4  teenage matt banting wants to work with a famo...          45.0   \n",
              "\n",
              "  duration_type  userId  rating_y movieId  avg_r  \n",
              "0           min     543       5.0     as1    4.0  \n",
              "1           min     321       3.0     as2    4.0  \n",
              "2           min     582       5.0     as3    4.0  \n",
              "3           min     151       1.5     as4    4.5  \n",
              "4           min      24       5.0     as5    3.0  "
            ],
            "text/html": [
              "\n",
              "  <div id=\"df-55398880-67a5-48cd-aa83-d9f024e3f90e\">\n",
              "    <div class=\"colab-df-container\">\n",
              "      <div>\n",
              "<style scoped>\n",
              "    .dataframe tbody tr th:only-of-type {\n",
              "        vertical-align: middle;\n",
              "    }\n",
              "\n",
              "    .dataframe tbody tr th {\n",
              "        vertical-align: top;\n",
              "    }\n",
              "\n",
              "    .dataframe thead th {\n",
              "        text-align: right;\n",
              "    }\n",
              "</style>\n",
              "<table border=\"1\" class=\"dataframe\">\n",
              "  <thead>\n",
              "    <tr style=\"text-align: right;\">\n",
              "      <th></th>\n",
              "      <th>index</th>\n",
              "      <th>id</th>\n",
              "      <th>show_id</th>\n",
              "      <th>type</th>\n",
              "      <th>title</th>\n",
              "      <th>director</th>\n",
              "      <th>cast</th>\n",
              "      <th>country</th>\n",
              "      <th>date_added</th>\n",
              "      <th>release_year</th>\n",
              "      <th>rating_x</th>\n",
              "      <th>listed_in</th>\n",
              "      <th>description</th>\n",
              "      <th>duration_int</th>\n",
              "      <th>duration_type</th>\n",
              "      <th>userId</th>\n",
              "      <th>rating_y</th>\n",
              "      <th>movieId</th>\n",
              "      <th>avg_r</th>\n",
              "    </tr>\n",
              "  </thead>\n",
              "  <tbody>\n",
              "    <tr>\n",
              "      <th>0</th>\n",
              "      <td>0</td>\n",
              "      <td>as1</td>\n",
              "      <td>s1</td>\n",
              "      <td>movie</td>\n",
              "      <td>the grand seduction</td>\n",
              "      <td>don mckellar</td>\n",
              "      <td>brendan gleeson, taylor kitsch, gordon pinsent</td>\n",
              "      <td>canada</td>\n",
              "      <td>2021-03-30</td>\n",
              "      <td>2014</td>\n",
              "      <td>g</td>\n",
              "      <td>comedy, drama</td>\n",
              "      <td>a small fishing village must procure a local d...</td>\n",
              "      <td>113.0</td>\n",
              "      <td>min</td>\n",
              "      <td>543</td>\n",
              "      <td>5.0</td>\n",
              "      <td>as1</td>\n",
              "      <td>4.0</td>\n",
              "    </tr>\n",
              "    <tr>\n",
              "      <th>1</th>\n",
              "      <td>1</td>\n",
              "      <td>as2</td>\n",
              "      <td>s2</td>\n",
              "      <td>movie</td>\n",
              "      <td>take care good night</td>\n",
              "      <td>girish joshi</td>\n",
              "      <td>mahesh manjrekar, abhay mahajan, sachin khedekar</td>\n",
              "      <td>india</td>\n",
              "      <td>2021-03-30</td>\n",
              "      <td>2018</td>\n",
              "      <td>13+</td>\n",
              "      <td>drama, international</td>\n",
              "      <td>a metro family decides to fight a cyber crimin...</td>\n",
              "      <td>110.0</td>\n",
              "      <td>min</td>\n",
              "      <td>321</td>\n",
              "      <td>3.0</td>\n",
              "      <td>as2</td>\n",
              "      <td>4.0</td>\n",
              "    </tr>\n",
              "    <tr>\n",
              "      <th>2</th>\n",
              "      <td>2</td>\n",
              "      <td>as3</td>\n",
              "      <td>s3</td>\n",
              "      <td>movie</td>\n",
              "      <td>secrets of deception</td>\n",
              "      <td>josh webber</td>\n",
              "      <td>tom sizemore, lorenzo lamas, robert lasardo, r...</td>\n",
              "      <td>united states</td>\n",
              "      <td>2021-03-30</td>\n",
              "      <td>2017</td>\n",
              "      <td>g</td>\n",
              "      <td>action, drama, suspense</td>\n",
              "      <td>after a man discovers his wife is cheating on ...</td>\n",
              "      <td>74.0</td>\n",
              "      <td>min</td>\n",
              "      <td>582</td>\n",
              "      <td>5.0</td>\n",
              "      <td>as3</td>\n",
              "      <td>4.0</td>\n",
              "    </tr>\n",
              "    <tr>\n",
              "      <th>3</th>\n",
              "      <td>3</td>\n",
              "      <td>as4</td>\n",
              "      <td>s4</td>\n",
              "      <td>movie</td>\n",
              "      <td>pink: staying true</td>\n",
              "      <td>sonia anderson</td>\n",
              "      <td>interviews with: pink, adele, beyoncé, britney...</td>\n",
              "      <td>united states</td>\n",
              "      <td>2021-03-30</td>\n",
              "      <td>2014</td>\n",
              "      <td>g</td>\n",
              "      <td>documentary</td>\n",
              "      <td>pink breaks the mold once again, bringing her ...</td>\n",
              "      <td>69.0</td>\n",
              "      <td>min</td>\n",
              "      <td>151</td>\n",
              "      <td>1.5</td>\n",
              "      <td>as4</td>\n",
              "      <td>4.5</td>\n",
              "    </tr>\n",
              "    <tr>\n",
              "      <th>4</th>\n",
              "      <td>4</td>\n",
              "      <td>as5</td>\n",
              "      <td>s5</td>\n",
              "      <td>movie</td>\n",
              "      <td>monster maker</td>\n",
              "      <td>giles foster</td>\n",
              "      <td>harry dean stanton, kieran o'brien, george cos...</td>\n",
              "      <td>united kingdom</td>\n",
              "      <td>2021-03-30</td>\n",
              "      <td>1989</td>\n",
              "      <td>g</td>\n",
              "      <td>drama, fantasy</td>\n",
              "      <td>teenage matt banting wants to work with a famo...</td>\n",
              "      <td>45.0</td>\n",
              "      <td>min</td>\n",
              "      <td>24</td>\n",
              "      <td>5.0</td>\n",
              "      <td>as5</td>\n",
              "      <td>3.0</td>\n",
              "    </tr>\n",
              "  </tbody>\n",
              "</table>\n",
              "</div>\n",
              "      <button class=\"colab-df-convert\" onclick=\"convertToInteractive('df-55398880-67a5-48cd-aa83-d9f024e3f90e')\"\n",
              "              title=\"Convert this dataframe to an interactive table.\"\n",
              "              style=\"display:none;\">\n",
              "        \n",
              "  <svg xmlns=\"http://www.w3.org/2000/svg\" height=\"24px\"viewBox=\"0 0 24 24\"\n",
              "       width=\"24px\">\n",
              "    <path d=\"M0 0h24v24H0V0z\" fill=\"none\"/>\n",
              "    <path d=\"M18.56 5.44l.94 2.06.94-2.06 2.06-.94-2.06-.94-.94-2.06-.94 2.06-2.06.94zm-11 1L8.5 8.5l.94-2.06 2.06-.94-2.06-.94L8.5 2.5l-.94 2.06-2.06.94zm10 10l.94 2.06.94-2.06 2.06-.94-2.06-.94-.94-2.06-.94 2.06-2.06.94z\"/><path d=\"M17.41 7.96l-1.37-1.37c-.4-.4-.92-.59-1.43-.59-.52 0-1.04.2-1.43.59L10.3 9.45l-7.72 7.72c-.78.78-.78 2.05 0 2.83L4 21.41c.39.39.9.59 1.41.59.51 0 1.02-.2 1.41-.59l7.78-7.78 2.81-2.81c.8-.78.8-2.07 0-2.86zM5.41 20L4 18.59l7.72-7.72 1.47 1.35L5.41 20z\"/>\n",
              "  </svg>\n",
              "      </button>\n",
              "      \n",
              "  <style>\n",
              "    .colab-df-container {\n",
              "      display:flex;\n",
              "      flex-wrap:wrap;\n",
              "      gap: 12px;\n",
              "    }\n",
              "\n",
              "    .colab-df-convert {\n",
              "      background-color: #E8F0FE;\n",
              "      border: none;\n",
              "      border-radius: 50%;\n",
              "      cursor: pointer;\n",
              "      display: none;\n",
              "      fill: #1967D2;\n",
              "      height: 32px;\n",
              "      padding: 0 0 0 0;\n",
              "      width: 32px;\n",
              "    }\n",
              "\n",
              "    .colab-df-convert:hover {\n",
              "      background-color: #E2EBFA;\n",
              "      box-shadow: 0px 1px 2px rgba(60, 64, 67, 0.3), 0px 1px 3px 1px rgba(60, 64, 67, 0.15);\n",
              "      fill: #174EA6;\n",
              "    }\n",
              "\n",
              "    [theme=dark] .colab-df-convert {\n",
              "      background-color: #3B4455;\n",
              "      fill: #D2E3FC;\n",
              "    }\n",
              "\n",
              "    [theme=dark] .colab-df-convert:hover {\n",
              "      background-color: #434B5C;\n",
              "      box-shadow: 0px 1px 3px 1px rgba(0, 0, 0, 0.15);\n",
              "      filter: drop-shadow(0px 1px 2px rgba(0, 0, 0, 0.3));\n",
              "      fill: #FFFFFF;\n",
              "    }\n",
              "  </style>\n",
              "\n",
              "      <script>\n",
              "        const buttonEl =\n",
              "          document.querySelector('#df-55398880-67a5-48cd-aa83-d9f024e3f90e button.colab-df-convert');\n",
              "        buttonEl.style.display =\n",
              "          google.colab.kernel.accessAllowed ? 'block' : 'none';\n",
              "\n",
              "        async function convertToInteractive(key) {\n",
              "          const element = document.querySelector('#df-55398880-67a5-48cd-aa83-d9f024e3f90e');\n",
              "          const dataTable =\n",
              "            await google.colab.kernel.invokeFunction('convertToInteractive',\n",
              "                                                     [key], {});\n",
              "          if (!dataTable) return;\n",
              "\n",
              "          const docLinkHtml = 'Like what you see? Visit the ' +\n",
              "            '<a target=\"_blank\" href=https://colab.research.google.com/notebooks/data_table.ipynb>data table notebook</a>'\n",
              "            + ' to learn more about interactive tables.';\n",
              "          element.innerHTML = '';\n",
              "          dataTable['output_type'] = 'display_data';\n",
              "          await google.colab.output.renderOutput(dataTable, element);\n",
              "          const docLink = document.createElement('div');\n",
              "          docLink.innerHTML = docLinkHtml;\n",
              "          element.appendChild(docLink);\n",
              "        }\n",
              "      </script>\n",
              "    </div>\n",
              "  </div>\n",
              "  "
            ]
          },
          "metadata": {},
          "execution_count": 141
        }
      ]
    },
    {
      "cell_type": "code",
      "source": [
        "reader = Reader(rating_scale=(1, 5))\n",
        "data = Dataset.load_from_df(df[['userId', 'id', 'avg_r']], reader)"
      ],
      "metadata": {
        "id": "Ufs1DIzxnG8w"
      },
      "execution_count": 142,
      "outputs": []
    },
    {
      "cell_type": "code",
      "source": [
        "#Separamos los datos para entrenamiento y test\n",
        "trainset, testset = train_test_split(data, test_size=0.25)"
      ],
      "metadata": {
        "id": "CDndzU0uosNY"
      },
      "execution_count": 143,
      "outputs": []
    },
    {
      "cell_type": "code",
      "source": [
        "#Instanciamos SVD\n",
        "algo = SVD()"
      ],
      "metadata": {
        "id": "EMofsX8sowgF"
      },
      "execution_count": 144,
      "outputs": []
    },
    {
      "cell_type": "code",
      "source": [
        "#Entrenamos\n",
        "algo.fit(trainset)"
      ],
      "metadata": {
        "colab": {
          "base_uri": "https://localhost:8080/"
        },
        "id": "ZVKrRifZptie",
        "outputId": "dfbe03c6-78e3-44f0-85b6-b0ed5bffea9b"
      },
      "execution_count": 145,
      "outputs": [
        {
          "output_type": "execute_result",
          "data": {
            "text/plain": [
              "<surprise.prediction_algorithms.matrix_factorization.SVD at 0x7fb402ba76a0>"
            ]
          },
          "metadata": {},
          "execution_count": 145
        }
      ]
    },
    {
      "cell_type": "code",
      "source": [
        "#Predecimos con los datos de testeo\n",
        "pred = algo.test(testset)"
      ],
      "metadata": {
        "id": "32Fm6-qurjpR"
      },
      "execution_count": 146,
      "outputs": []
    },
    {
      "cell_type": "code",
      "source": [
        "#Hacemos pruebas\n",
        "userId = \"150\"\n",
        "id = \"as4\"\n",
        "avg_r = 4.0\n",
        "algo.predict(userId, id, avg_r, verbose=True)"
      ],
      "metadata": {
        "colab": {
          "base_uri": "https://localhost:8080/"
        },
        "id": "7_6mn17TsF_U",
        "outputId": "86db925e-0245-4376-d29f-77a84ef244d9"
      },
      "execution_count": 147,
      "outputs": [
        {
          "output_type": "stream",
          "name": "stdout",
          "text": [
            "user: 150        item: as4        r_ui = 4.00   est = 3.60   {'was_impossible': False}\n"
          ]
        },
        {
          "output_type": "execute_result",
          "data": {
            "text/plain": [
              "Prediction(uid='150', iid='as4', r_ui=4.0, est=3.600343884103925, details={'was_impossible': False})"
            ]
          },
          "metadata": {},
          "execution_count": 147
        }
      ]
    },
    {
      "cell_type": "code",
      "source": [
        "#Funcion para recomendación\n",
        "def get_movie_recommendation(userId, id):\n",
        "    # Obtenemos la predicción de la calificación\n",
        "    prediction = algo.predict(userId, str(id))\n",
        "\n",
        "    # Si la predicción es mayor o igual a 4, se recomienda la película\n",
        "    if prediction.est >= 4:\n",
        "        return \"Recomendada\", prediction.est\n",
        "    else:\n",
        "        return \"No recomendada\", prediction.est"
      ],
      "metadata": {
        "id": "HfzvPpjItJYP"
      },
      "execution_count": 148,
      "outputs": []
    },
    {
      "cell_type": "code",
      "source": [
        "id_usuario = 432\n",
        "id_pelicula = \"ns3149\"\n",
        "recommendation = get_movie_recommendation(id_usuario, id_pelicula)\n",
        "print(f\"La mejor recomendacion es: {recommendation}\")"
      ],
      "metadata": {
        "colab": {
          "base_uri": "https://localhost:8080/"
        },
        "id": "tmU3fcs9usCF",
        "outputId": "21a08172-f091-4239-f61d-d26df970fa11"
      },
      "execution_count": 149,
      "outputs": [
        {
          "output_type": "stream",
          "name": "stdout",
          "text": [
            "La mejor recomendacion es: ('No recomendada', 3.265688807865891)\n"
          ]
        }
      ]
    },
    {
      "cell_type": "code",
      "source": [
        "from surprise import accuracy\n",
        "accuracy.rmse(pred)"
      ],
      "metadata": {
        "colab": {
          "base_uri": "https://localhost:8080/"
        },
        "id": "bsScG0DIvOl8",
        "outputId": "c07be347-d8b3-4f3a-90bc-dba70fc4c053"
      },
      "execution_count": 150,
      "outputs": [
        {
          "output_type": "stream",
          "name": "stdout",
          "text": [
            "RMSE: 1.0651\n"
          ]
        },
        {
          "output_type": "execute_result",
          "data": {
            "text/plain": [
              "1.065124854162075"
            ]
          },
          "metadata": {},
          "execution_count": 150
        }
      ]
    },
    {
      "cell_type": "markdown",
      "source": [
        "# Segunda Prueba"
      ],
      "metadata": {
        "id": "1ovsqCyLydr0"
      }
    },
    {
      "cell_type": "code",
      "source": [
        "N_filas = 100000\n",
        "reader = Reader(rating_scale=(0.5,5))\n",
        "data = Dataset.load_from_df(df[['userId', 'id', 'avg_r']][:N_filas], reader)"
      ],
      "metadata": {
        "id": "ttxAGeDNwT7q"
      },
      "execution_count": 151,
      "outputs": []
    },
    {
      "cell_type": "code",
      "source": [
        "trainset, testset = train_test_split(data, test_size=.25)"
      ],
      "metadata": {
        "id": "getu9VeywZjR"
      },
      "execution_count": 152,
      "outputs": []
    },
    {
      "cell_type": "code",
      "source": [
        "model = SVD()"
      ],
      "metadata": {
        "id": "ftEpTagZvsZz"
      },
      "execution_count": 153,
      "outputs": []
    },
    {
      "cell_type": "code",
      "source": [
        "model.fit(trainset)"
      ],
      "metadata": {
        "colab": {
          "base_uri": "https://localhost:8080/"
        },
        "id": "2JlCpwuowNUf",
        "outputId": "87c62d76-706f-4050-ba53-0a1e6fa9c63b"
      },
      "execution_count": 154,
      "outputs": [
        {
          "output_type": "execute_result",
          "data": {
            "text/plain": [
              "<surprise.prediction_algorithms.matrix_factorization.SVD at 0x7fb401afab80>"
            ]
          },
          "metadata": {},
          "execution_count": 154
        }
      ]
    },
    {
      "cell_type": "code",
      "source": [
        "predictions = model.test(testset)"
      ],
      "metadata": {
        "id": "BkEH6Ffhwdtk"
      },
      "execution_count": 155,
      "outputs": []
    },
    {
      "cell_type": "code",
      "source": [
        "#Funcion para recomendación\n",
        "def get_movie_recommendation(userId, id):\n",
        "    # Obtenemos la predicción de la calificación\n",
        "    prediction = model.predict(userId, str(id))\n",
        "\n",
        "    # Si la predicción es mayor o igual a 4, se recomienda la película\n",
        "    if prediction.est >= 4:\n",
        "        return \"Recomendada\", prediction.est\n",
        "    else:\n",
        "        return \"No recomendada\", prediction.est"
      ],
      "metadata": {
        "id": "Qy4MsQunwi7m"
      },
      "execution_count": 156,
      "outputs": []
    },
    {
      "cell_type": "code",
      "source": [
        "#Hacemos un ejemplo\n",
        "id_usuario = 432\n",
        "id_pelicula = \"ns3149\"\n",
        "recommendation = get_movie_recommendation(id_usuario, id_pelicula)\n",
        "print(f\"La mejor recomendacion es: {recommendation}\")"
      ],
      "metadata": {
        "colab": {
          "base_uri": "https://localhost:8080/"
        },
        "id": "aaMlUFKAw4sU",
        "outputId": "9a3af3b1-89b1-4062-8e17-ed4788d74aaa"
      },
      "execution_count": 157,
      "outputs": [
        {
          "output_type": "stream",
          "name": "stdout",
          "text": [
            "La mejor recomendacion es: ('No recomendada', 3.250112295386699)\n"
          ]
        }
      ]
    },
    {
      "cell_type": "code",
      "source": [
        "accuracy.rmse(predictions)"
      ],
      "metadata": {
        "colab": {
          "base_uri": "https://localhost:8080/"
        },
        "id": "1qXPTiuHw7E8",
        "outputId": "db1a89bf-901d-4cc6-b425-64575cb509ea"
      },
      "execution_count": 158,
      "outputs": [
        {
          "output_type": "stream",
          "name": "stdout",
          "text": [
            "RMSE: 1.0508\n"
          ]
        },
        {
          "output_type": "execute_result",
          "data": {
            "text/plain": [
              "1.0508005637045736"
            ]
          },
          "metadata": {},
          "execution_count": 158
        }
      ]
    },
    {
      "cell_type": "markdown",
      "source": [
        "# Prueba de otra tecnica"
      ],
      "metadata": {
        "id": "3QpFt6K9z5ot"
      }
    },
    {
      "cell_type": "code",
      "source": [
        "from surprise import SVDpp"
      ],
      "metadata": {
        "id": "4Tj8C6Kxw-fE"
      },
      "execution_count": 159,
      "outputs": []
    },
    {
      "cell_type": "code",
      "source": [
        "reader = Reader(rating_scale=(0.5, 5.0))\n",
        "data = Dataset.load_from_df(df[['userId', 'id', 'avg_r']][:N_filas], reader)"
      ],
      "metadata": {
        "id": "dr_66rZ40kvq"
      },
      "execution_count": 160,
      "outputs": []
    },
    {
      "cell_type": "code",
      "source": [
        "#Separamos los datos en 2\n",
        "train, test = train_test_split(data, test_size=0.25)\n",
        "\n",
        "#Instanciamos el algoritmo y entrenamos\n",
        "svd = SVDpp()\n",
        "cross_validate(model, data, measures=['RMSE', 'MAE'], cv=5, verbose=True)\n",
        "\n",
        "# Entrenar el modelo con todo el conjunto de datos\n",
        "trainset = data.build_full_trainset()\n",
        "model.fit(trainset)"
      ],
      "metadata": {
        "colab": {
          "base_uri": "https://localhost:8080/"
        },
        "id": "Ddeg4ss5z-8t",
        "outputId": "897a0497-6078-461f-8b4e-39f94d2479cb"
      },
      "execution_count": 161,
      "outputs": [
        {
          "output_type": "stream",
          "name": "stdout",
          "text": [
            "Evaluating RMSE, MAE of algorithm SVD on 5 split(s).\n",
            "\n",
            "                  Fold 1  Fold 2  Fold 3  Fold 4  Fold 5  Mean    Std     \n",
            "RMSE (testset)    1.0656  1.0414  1.0680  1.0696  1.0594  1.0608  0.0103  \n",
            "MAE (testset)     0.8529  0.8303  0.8464  0.8608  0.8439  0.8469  0.0102  \n",
            "Fit time          0.75    0.50    0.44    0.47    0.47    0.53    0.11    \n",
            "Test time         0.05    0.02    0.02    0.02    0.02    0.03    0.01    \n"
          ]
        },
        {
          "output_type": "execute_result",
          "data": {
            "text/plain": [
              "<surprise.prediction_algorithms.matrix_factorization.SVD at 0x7fb401afab80>"
            ]
          },
          "metadata": {},
          "execution_count": 161
        }
      ]
    },
    {
      "cell_type": "code",
      "source": [
        "#Funcion para recomendación\n",
        "def get_movie_recommendation(userId, id):\n",
        "    # Obtenemos la predicción de la calificación\n",
        "    prediction = model.predict(userId, id)\n",
        "    rating = prediction.est\n",
        "\n",
        "    # Si la predicción es mayor o igual a 4, se recomienda la película\n",
        "    if rating >= 4:\n",
        "        return \"Recomendada\", rating\n",
        "    else:\n",
        "        return \"No recomendada\", rating"
      ],
      "metadata": {
        "id": "9d2yVAv70UGs"
      },
      "execution_count": 162,
      "outputs": []
    },
    {
      "cell_type": "code",
      "source": [
        "user_id = 123\n",
        "movie_id = 456\n",
        "\n",
        "recommendation= get_movie_recommendation(user_id, movie_id)\n",
        "print(f\"La mejor recomendacion es: {recommendation}\")"
      ],
      "metadata": {
        "colab": {
          "base_uri": "https://localhost:8080/"
        },
        "id": "hFJt2Onf2C59",
        "outputId": "8885f88e-2ef7-4006-9c1c-65416d2458be"
      },
      "execution_count": 163,
      "outputs": [
        {
          "output_type": "stream",
          "name": "stdout",
          "text": [
            "La mejor recomendacion es: ('No recomendada', 3.651488485587119)\n"
          ]
        }
      ]
    },
    {
      "cell_type": "markdown",
      "source": [
        "# Subir modelo SVDpp a Gradio "
      ],
      "metadata": {
        "id": "0qN3FmNr3X9S"
      }
    },
    {
      "cell_type": "code",
      "source": [
        "pip install gradio"
      ],
      "metadata": {
        "id": "g1Fci5UI30tX"
      },
      "execution_count": null,
      "outputs": []
    },
    {
      "cell_type": "code",
      "source": [
        "import gradio as gr\n",
        "inputs = [\n",
        "    gr.inputs.Number(label=\"ID de usuario\"),\n",
        "    gr.inputs.Textbox(label=\"ID de película\"),\n",
        "]\n",
        "outputs = gr.outputs.Textbox(label=\"Predicción\")\n",
        "interface = gr.Interface(fn=get_movie_recommendation, inputs=inputs, outputs=outputs, title=\"Sistema de recomendación de películas\")\n",
        "interface.launch()"
      ],
      "metadata": {
        "colab": {
          "base_uri": "https://localhost:8080/",
          "height": 810
        },
        "id": "NYKQjGDC2NpV",
        "outputId": "fa41dfec-9b75-4489-8f3c-bc0cc46effee"
      },
      "execution_count": 167,
      "outputs": [
        {
          "output_type": "stream",
          "name": "stderr",
          "text": [
            "/usr/local/lib/python3.8/dist-packages/gradio/inputs.py:59: UserWarning: Usage of gradio.inputs is deprecated, and will not be supported in the future, please import your component from gradio.components\n",
            "  warnings.warn(\n",
            "/usr/local/lib/python3.8/dist-packages/gradio/deprecation.py:40: UserWarning: `optional` parameter is deprecated, and it has no effect\n",
            "  warnings.warn(value)\n",
            "/usr/local/lib/python3.8/dist-packages/gradio/inputs.py:27: UserWarning: Usage of gradio.inputs is deprecated, and will not be supported in the future, please import your component from gradio.components\n",
            "  warnings.warn(\n",
            "/usr/local/lib/python3.8/dist-packages/gradio/deprecation.py:40: UserWarning: `numeric` parameter is deprecated, and it has no effect\n",
            "  warnings.warn(value)\n",
            "/usr/local/lib/python3.8/dist-packages/gradio/outputs.py:22: UserWarning: Usage of gradio.outputs is deprecated, and will not be supported in the future, please import your components from gradio.components\n",
            "  warnings.warn(\n"
          ]
        },
        {
          "output_type": "stream",
          "name": "stdout",
          "text": [
            "Colab notebook detected. To show errors in colab notebook, set debug=True in launch()\n",
            "Note: opening Chrome Inspector may crash demo inside Colab notebooks.\n",
            "\n",
            "To create a public link, set `share=True` in `launch()`.\n"
          ]
        },
        {
          "output_type": "display_data",
          "data": {
            "text/plain": [
              "<IPython.core.display.Javascript object>"
            ],
            "application/javascript": [
              "(async (port, path, width, height, cache, element) => {\n",
              "                        if (!google.colab.kernel.accessAllowed && !cache) {\n",
              "                            return;\n",
              "                        }\n",
              "                        element.appendChild(document.createTextNode(''));\n",
              "                        const url = await google.colab.kernel.proxyPort(port, {cache});\n",
              "\n",
              "                        const external_link = document.createElement('div');\n",
              "                        external_link.innerHTML = `\n",
              "                            <div style=\"font-family: monospace; margin-bottom: 0.5rem\">\n",
              "                                Running on <a href=${new URL(path, url).toString()} target=\"_blank\">\n",
              "                                    https://localhost:${port}${path}\n",
              "                                </a>\n",
              "                            </div>\n",
              "                        `;\n",
              "                        element.appendChild(external_link);\n",
              "\n",
              "                        const iframe = document.createElement('iframe');\n",
              "                        iframe.src = new URL(path, url).toString();\n",
              "                        iframe.height = height;\n",
              "                        iframe.allow = \"autoplay; camera; microphone; clipboard-read; clipboard-write;\"\n",
              "                        iframe.width = width;\n",
              "                        iframe.style.border = 0;\n",
              "                        element.appendChild(iframe);\n",
              "                    })(7862, \"/\", \"100%\", 500, false, window.element)"
            ]
          },
          "metadata": {}
        },
        {
          "output_type": "execute_result",
          "data": {
            "text/plain": []
          },
          "metadata": {},
          "execution_count": 167
        }
      ]
    },
    {
      "cell_type": "code",
      "source": [],
      "metadata": {
        "id": "akr744NV3wJ2"
      },
      "execution_count": 165,
      "outputs": []
    }
  ]
}